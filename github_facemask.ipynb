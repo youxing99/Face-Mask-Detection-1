{
  "nbformat": 4,
  "nbformat_minor": 0,
  "metadata": {
    "colab": {
      "name": "github_facemask.ipynb",
      "provenance": [],
      "authorship_tag": "ABX9TyOpkqeH2/Si4ivCymiD/UG9",
      "include_colab_link": true
    },
    "kernelspec": {
      "name": "python3",
      "display_name": "Python 3"
    },
    "accelerator": "GPU"
  },
  "cells": [
    {
      "cell_type": "markdown",
      "metadata": {
        "id": "view-in-github",
        "colab_type": "text"
      },
      "source": [
        "<a href=\"https://colab.research.google.com/github/youxing99/Face-Mask-Detection-1/blob/main/github_facemask.ipynb\" target=\"_parent\"><img src=\"https://colab.research.google.com/assets/colab-badge.svg\" alt=\"Open In Colab\"/></a>"
      ]
    },
    {
      "cell_type": "code",
      "metadata": {
        "colab": {
          "base_uri": "https://localhost:8080/"
        },
        "id": "SIsguNZcgoNE",
        "outputId": "5b9c9fdb-16f0-4385-d2f2-f84551f8ed55"
      },
      "source": [
        "!git clone https://github.com/youxing99/Face-Mask-Detection-1.git"
      ],
      "execution_count": 1,
      "outputs": [
        {
          "output_type": "stream",
          "text": [
            "Cloning into 'Face-Mask-Detection-1'...\n",
            "remote: Enumerating objects: 231, done.\u001b[K\n",
            "remote: Counting objects: 100% (231/231), done.\u001b[K\n",
            "remote: Compressing objects: 100% (231/231), done.\u001b[K\n",
            "remote: Total 6636 (delta 1), reused 228 (delta 0), pack-reused 6405\u001b[K\n",
            "Receiving objects: 100% (6636/6636), 769.64 MiB | 50.62 MiB/s, done.\n",
            "Resolving deltas: 100% (2/2), done.\n",
            "Checking out files: 100% (6739/6739), done.\n"
          ],
          "name": "stdout"
        }
      ]
    },
    {
      "cell_type": "code",
      "metadata": {
        "colab": {
          "base_uri": "https://localhost:8080/"
        },
        "id": "hUOt6FlWikDt",
        "outputId": "9202dc7e-d43e-4847-8310-7787676fae54"
      },
      "source": [
        "%cd \"/content/Face-Mask-Detection-1/Face-Mask-Detection-master/Face-Mask-Detection-master\"\r\n"
      ],
      "execution_count": 2,
      "outputs": [
        {
          "output_type": "stream",
          "text": [
            "/content/Face-Mask-Detection-1/Face-Mask-Detection-master/Face-Mask-Detection-master\n"
          ],
          "name": "stdout"
        }
      ]
    },
    {
      "cell_type": "code",
      "metadata": {
        "colab": {
          "base_uri": "https://localhost:8080/"
        },
        "id": "qlTsN0IiiwNy",
        "outputId": "be56c28d-c670-49f8-f9a6-cfdcb18cb3c1"
      },
      "source": [
        "!python train_mask_detector.py --dataset dataset"
      ],
      "execution_count": 3,
      "outputs": [
        {
          "output_type": "stream",
          "text": [
            "2021-03-15 15:29:42.259200: I tensorflow/stream_executor/platform/default/dso_loader.cc:49] Successfully opened dynamic library libcudart.so.11.0\n",
            "[INFO] loading images...\n",
            "/usr/local/lib/python3.7/dist-packages/PIL/Image.py:932: UserWarning: Palette images with Transparency expressed in bytes should be converted to RGBA images\n",
            "  \"Palette images with Transparency expressed in bytes should be \"\n",
            "tcmalloc: large alloc 4032946176 bytes == 0x561679652000 @  0x7f5d901341e7 0x7f5d6608d46e 0x7f5d660ddc7b 0x7f5d660e0e83 0x7f5d660e107b 0x7f5d66182761 0x56158078a0e4 0x561580789de0 0x5615807fe6f5 0x5615807f8b0e 0x5615807f8813 0x5615808c2592 0x5615808c290d 0x5615808c27b6 0x56158089a103 0x561580899dac 0x7f5d8ef1ebf7 0x561580899c8a\n",
            "tcmalloc: large alloc 3226116096 bytes == 0x56176a7be000 @  0x7f5d901341e7 0x7f5d6608d46e 0x7f5d660ddc7b 0x7f5d660ddd18 0x7f5d661703a9 0x7f5d66172ab5 0x561580871e59 0x5615807f9fad 0x5615807f8b0e 0x56158078b77a 0x5615807fa86a 0x5615807f8b0e 0x56158078b77a 0x5615807f9a45 0x56158087c858 0x5615808726fe 0x561580862525 0x561580798c94 0x5615807c9c84 0x56158078a7f2 0x5615807fdd75 0x5615807f8e0d 0x56158078b77a 0x5615807fa86a 0x5615807f8b0e 0x5615807f8813 0x5615808c2592 0x5615808c290d 0x5615808c27b6 0x56158089a103 0x561580899dac\n",
            "WARNING:tensorflow:`input_shape` is undefined or non-square, or `rows` is not in [96, 128, 160, 192, 224]. Weights for input shape (224, 224) will be loaded as the default.\n",
            "2021-03-15 15:30:49.812184: I tensorflow/compiler/jit/xla_cpu_device.cc:41] Not creating XLA devices, tf_xla_enable_xla_devices not set\n",
            "2021-03-15 15:30:49.819595: I tensorflow/stream_executor/platform/default/dso_loader.cc:49] Successfully opened dynamic library libcuda.so.1\n",
            "2021-03-15 15:30:49.878594: I tensorflow/stream_executor/cuda/cuda_gpu_executor.cc:941] successful NUMA node read from SysFS had negative value (-1), but there must be at least one NUMA node, so returning NUMA node zero\n",
            "2021-03-15 15:30:49.879194: I tensorflow/core/common_runtime/gpu/gpu_device.cc:1720] Found device 0 with properties: \n",
            "pciBusID: 0000:00:04.0 name: Tesla T4 computeCapability: 7.5\n",
            "coreClock: 1.59GHz coreCount: 40 deviceMemorySize: 14.75GiB deviceMemoryBandwidth: 298.08GiB/s\n",
            "2021-03-15 15:30:49.879234: I tensorflow/stream_executor/platform/default/dso_loader.cc:49] Successfully opened dynamic library libcudart.so.11.0\n",
            "2021-03-15 15:30:49.981359: I tensorflow/stream_executor/platform/default/dso_loader.cc:49] Successfully opened dynamic library libcublas.so.11\n",
            "2021-03-15 15:30:49.981455: I tensorflow/stream_executor/platform/default/dso_loader.cc:49] Successfully opened dynamic library libcublasLt.so.11\n",
            "2021-03-15 15:30:50.110719: I tensorflow/stream_executor/platform/default/dso_loader.cc:49] Successfully opened dynamic library libcufft.so.10\n",
            "2021-03-15 15:30:50.166068: I tensorflow/stream_executor/platform/default/dso_loader.cc:49] Successfully opened dynamic library libcurand.so.10\n",
            "2021-03-15 15:30:50.403829: I tensorflow/stream_executor/platform/default/dso_loader.cc:49] Successfully opened dynamic library libcusolver.so.10\n",
            "2021-03-15 15:30:50.416803: I tensorflow/stream_executor/platform/default/dso_loader.cc:49] Successfully opened dynamic library libcusparse.so.11\n",
            "2021-03-15 15:30:50.420480: I tensorflow/stream_executor/platform/default/dso_loader.cc:49] Successfully opened dynamic library libcudnn.so.8\n",
            "2021-03-15 15:30:50.420653: I tensorflow/stream_executor/cuda/cuda_gpu_executor.cc:941] successful NUMA node read from SysFS had negative value (-1), but there must be at least one NUMA node, so returning NUMA node zero\n",
            "2021-03-15 15:30:50.421344: I tensorflow/stream_executor/cuda/cuda_gpu_executor.cc:941] successful NUMA node read from SysFS had negative value (-1), but there must be at least one NUMA node, so returning NUMA node zero\n",
            "2021-03-15 15:30:50.424427: I tensorflow/core/common_runtime/gpu/gpu_device.cc:1862] Adding visible gpu devices: 0\n",
            "2021-03-15 15:30:50.424945: I tensorflow/compiler/jit/xla_gpu_device.cc:99] Not creating XLA devices, tf_xla_enable_xla_devices not set\n",
            "2021-03-15 15:30:50.425089: I tensorflow/stream_executor/cuda/cuda_gpu_executor.cc:941] successful NUMA node read from SysFS had negative value (-1), but there must be at least one NUMA node, so returning NUMA node zero\n",
            "2021-03-15 15:30:50.425681: I tensorflow/core/common_runtime/gpu/gpu_device.cc:1720] Found device 0 with properties: \n",
            "pciBusID: 0000:00:04.0 name: Tesla T4 computeCapability: 7.5\n",
            "coreClock: 1.59GHz coreCount: 40 deviceMemorySize: 14.75GiB deviceMemoryBandwidth: 298.08GiB/s\n",
            "2021-03-15 15:30:50.425715: I tensorflow/stream_executor/platform/default/dso_loader.cc:49] Successfully opened dynamic library libcudart.so.11.0\n",
            "2021-03-15 15:30:50.425804: I tensorflow/stream_executor/platform/default/dso_loader.cc:49] Successfully opened dynamic library libcublas.so.11\n",
            "2021-03-15 15:30:50.425835: I tensorflow/stream_executor/platform/default/dso_loader.cc:49] Successfully opened dynamic library libcublasLt.so.11\n",
            "2021-03-15 15:30:50.425863: I tensorflow/stream_executor/platform/default/dso_loader.cc:49] Successfully opened dynamic library libcufft.so.10\n",
            "2021-03-15 15:30:50.425892: I tensorflow/stream_executor/platform/default/dso_loader.cc:49] Successfully opened dynamic library libcurand.so.10\n",
            "2021-03-15 15:30:50.425917: I tensorflow/stream_executor/platform/default/dso_loader.cc:49] Successfully opened dynamic library libcusolver.so.10\n",
            "2021-03-15 15:30:50.425942: I tensorflow/stream_executor/platform/default/dso_loader.cc:49] Successfully opened dynamic library libcusparse.so.11\n",
            "2021-03-15 15:30:50.425967: I tensorflow/stream_executor/platform/default/dso_loader.cc:49] Successfully opened dynamic library libcudnn.so.8\n",
            "2021-03-15 15:30:50.426052: I tensorflow/stream_executor/cuda/cuda_gpu_executor.cc:941] successful NUMA node read from SysFS had negative value (-1), but there must be at least one NUMA node, so returning NUMA node zero\n",
            "2021-03-15 15:30:50.426648: I tensorflow/stream_executor/cuda/cuda_gpu_executor.cc:941] successful NUMA node read from SysFS had negative value (-1), but there must be at least one NUMA node, so returning NUMA node zero\n",
            "2021-03-15 15:30:50.427208: I tensorflow/core/common_runtime/gpu/gpu_device.cc:1862] Adding visible gpu devices: 0\n",
            "2021-03-15 15:30:50.465510: I tensorflow/stream_executor/platform/default/dso_loader.cc:49] Successfully opened dynamic library libcudart.so.11.0\n",
            "2021-03-15 15:30:54.890198: I tensorflow/core/common_runtime/gpu/gpu_device.cc:1261] Device interconnect StreamExecutor with strength 1 edge matrix:\n",
            "2021-03-15 15:30:54.890244: I tensorflow/core/common_runtime/gpu/gpu_device.cc:1267]      0 \n",
            "2021-03-15 15:30:54.890260: I tensorflow/core/common_runtime/gpu/gpu_device.cc:1280] 0:   N \n",
            "2021-03-15 15:30:54.893033: I tensorflow/stream_executor/cuda/cuda_gpu_executor.cc:941] successful NUMA node read from SysFS had negative value (-1), but there must be at least one NUMA node, so returning NUMA node zero\n",
            "2021-03-15 15:30:54.893710: I tensorflow/stream_executor/cuda/cuda_gpu_executor.cc:941] successful NUMA node read from SysFS had negative value (-1), but there must be at least one NUMA node, so returning NUMA node zero\n",
            "2021-03-15 15:30:54.894310: I tensorflow/stream_executor/cuda/cuda_gpu_executor.cc:941] successful NUMA node read from SysFS had negative value (-1), but there must be at least one NUMA node, so returning NUMA node zero\n",
            "2021-03-15 15:30:54.894823: W tensorflow/core/common_runtime/gpu/gpu_bfc_allocator.cc:39] Overriding allow_growth setting because the TF_FORCE_GPU_ALLOW_GROWTH environment variable is set. Original config value was 0.\n",
            "2021-03-15 15:30:54.894873: I tensorflow/core/common_runtime/gpu/gpu_device.cc:1406] Created TensorFlow device (/job:localhost/replica:0/task:0/device:GPU:0 with 13994 MB memory) -> physical GPU (device: 0, name: Tesla T4, pci bus id: 0000:00:04.0, compute capability: 7.5)\n",
            "Downloading data from https://storage.googleapis.com/tensorflow/keras-applications/mobilenet_v2/mobilenet_v2_weights_tf_dim_ordering_tf_kernels_1.0_224_no_top.h5\n",
            "9412608/9406464 [==============================] - 0s 0us/step\n",
            "[INFO] compiling model...\n",
            "[INFO] training head...\n",
            "2021-03-15 15:30:56.592386: I tensorflow/compiler/mlir/mlir_graph_optimization_pass.cc:116] None of the MLIR optimization passes are enabled (registered 2)\n",
            "2021-03-15 15:30:56.595943: I tensorflow/core/platform/profile_utils/cpu_utils.cc:112] CPU Frequency: 2199995000 Hz\n",
            "Epoch 1/20\n",
            "2021-03-15 15:30:58.850308: I tensorflow/stream_executor/platform/default/dso_loader.cc:49] Successfully opened dynamic library libcublas.so.11\n",
            "2021-03-15 15:31:01.354559: I tensorflow/stream_executor/platform/default/dso_loader.cc:49] Successfully opened dynamic library libcublasLt.so.11\n",
            "2021-03-15 15:31:01.455950: I tensorflow/stream_executor/platform/default/dso_loader.cc:49] Successfully opened dynamic library libcudnn.so.8\n",
            "167/167 [==============================] - ETA: 0s - loss: 0.5818 - accuracy: 0.71522021-03-15 15:32:23.565088: W tensorflow/core/framework/cpu_allocator_impl.cc:80] Allocation of 19869696 exceeds 10% of free system memory.\n",
            "2021-03-15 15:32:23.565170: W tensorflow/core/framework/cpu_allocator_impl.cc:80] Allocation of 19869696 exceeds 10% of free system memory.\n",
            "2021-03-15 15:32:23.592181: W tensorflow/core/framework/cpu_allocator_impl.cc:80] Allocation of 19869696 exceeds 10% of free system memory.\n",
            "2021-03-15 15:32:24.085037: W tensorflow/core/framework/cpu_allocator_impl.cc:80] Allocation of 19869696 exceeds 10% of free system memory.\n",
            "2021-03-15 15:32:24.126410: W tensorflow/core/framework/cpu_allocator_impl.cc:80] Allocation of 19869696 exceeds 10% of free system memory.\n",
            "167/167 [==============================] - 89s 332ms/step - loss: 0.5809 - accuracy: 0.7159 - val_loss: 0.2290 - val_accuracy: 0.9366\n",
            "Epoch 2/20\n",
            "167/167 [==============================] - 53s 320ms/step - loss: 0.2389 - accuracy: 0.9303 - val_loss: 0.1642 - val_accuracy: 0.9530\n",
            "Epoch 3/20\n",
            "167/167 [==============================] - 54s 322ms/step - loss: 0.1867 - accuracy: 0.9440 - val_loss: 0.1349 - val_accuracy: 0.9627\n",
            "Epoch 4/20\n",
            "167/167 [==============================] - 54s 322ms/step - loss: 0.1719 - accuracy: 0.9382 - val_loss: 0.1176 - val_accuracy: 0.9672\n",
            "Epoch 5/20\n",
            "167/167 [==============================] - 53s 320ms/step - loss: 0.1318 - accuracy: 0.9585 - val_loss: 0.1069 - val_accuracy: 0.9709\n",
            "Epoch 6/20\n",
            "167/167 [==============================] - 53s 320ms/step - loss: 0.1396 - accuracy: 0.9504 - val_loss: 0.0990 - val_accuracy: 0.9731\n",
            "Epoch 7/20\n",
            "167/167 [==============================] - 53s 320ms/step - loss: 0.1235 - accuracy: 0.9573 - val_loss: 0.0907 - val_accuracy: 0.9754\n",
            "Epoch 8/20\n",
            "167/167 [==============================] - 54s 323ms/step - loss: 0.1141 - accuracy: 0.9629 - val_loss: 0.0928 - val_accuracy: 0.9724\n",
            "Epoch 9/20\n",
            "167/167 [==============================] - 54s 321ms/step - loss: 0.1040 - accuracy: 0.9681 - val_loss: 0.0816 - val_accuracy: 0.9761\n",
            "Epoch 10/20\n",
            "167/167 [==============================] - 54s 321ms/step - loss: 0.0959 - accuracy: 0.9686 - val_loss: 0.0786 - val_accuracy: 0.9754\n",
            "Epoch 11/20\n",
            "167/167 [==============================] - 54s 321ms/step - loss: 0.0918 - accuracy: 0.9691 - val_loss: 0.0751 - val_accuracy: 0.9769\n",
            "Epoch 12/20\n",
            "167/167 [==============================] - 54s 322ms/step - loss: 0.0934 - accuracy: 0.9663 - val_loss: 0.0747 - val_accuracy: 0.9761\n",
            "Epoch 13/20\n",
            "167/167 [==============================] - 54s 321ms/step - loss: 0.0873 - accuracy: 0.9705 - val_loss: 0.0690 - val_accuracy: 0.9776\n",
            "Epoch 14/20\n",
            "167/167 [==============================] - 53s 320ms/step - loss: 0.0805 - accuracy: 0.9722 - val_loss: 0.0682 - val_accuracy: 0.9776\n",
            "Epoch 15/20\n",
            "167/167 [==============================] - 53s 320ms/step - loss: 0.0838 - accuracy: 0.9698 - val_loss: 0.0661 - val_accuracy: 0.9769\n",
            "Epoch 16/20\n",
            "167/167 [==============================] - 54s 321ms/step - loss: 0.0745 - accuracy: 0.9747 - val_loss: 0.0650 - val_accuracy: 0.9799\n",
            "Epoch 17/20\n",
            "167/167 [==============================] - 54s 322ms/step - loss: 0.0708 - accuracy: 0.9769 - val_loss: 0.0634 - val_accuracy: 0.9813\n",
            "Epoch 18/20\n",
            "167/167 [==============================] - 53s 319ms/step - loss: 0.0701 - accuracy: 0.9764 - val_loss: 0.0656 - val_accuracy: 0.9776\n",
            "Epoch 19/20\n",
            "167/167 [==============================] - 53s 320ms/step - loss: 0.0742 - accuracy: 0.9742 - val_loss: 0.0605 - val_accuracy: 0.9784\n",
            "Epoch 20/20\n",
            "167/167 [==============================] - 53s 319ms/step - loss: 0.0662 - accuracy: 0.9764 - val_loss: 0.0599 - val_accuracy: 0.9799\n",
            "[INFO] evaluating network...\n",
            "              precision    recall  f1-score   support\n",
            "\n",
            "   with_mask       0.98      0.98      0.98       735\n",
            "without_mask       0.98      0.98      0.98       605\n",
            "\n",
            "    accuracy                           0.98      1340\n",
            "   macro avg       0.98      0.98      0.98      1340\n",
            "weighted avg       0.98      0.98      0.98      1340\n",
            "\n",
            "[INFO] saving mask detector model...\n",
            "Traceback (most recent call last):\n",
            "  File \"train_mask_detector.py\", line 149, in <module>\n",
            "    plt.plot(np.arange(0, N), H.history[\"acc\"], label=\"train_acc\")\n",
            "KeyError: 'acc'\n"
          ],
          "name": "stdout"
        }
      ]
    }
  ]
}